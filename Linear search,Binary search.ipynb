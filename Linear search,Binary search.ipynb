{
 "cells": [
  {
   "cell_type": "code",
   "execution_count": 9,
   "id": "3c497fd9",
   "metadata": {},
   "outputs": [
    {
     "name": "stdout",
     "output_type": "stream",
     "text": [
      "Item found in 3\n"
     ]
    }
   ],
   "source": [
    "#\n",
    "def search(arr,n,x):\n",
    "    for i in range(0,n):\n",
    "        if arr[i]==x:\n",
    "            return i\n",
    "    return -1\n",
    "arr=[12,2,4,5,3,3]\n",
    "n=len(arr)\n",
    "x=5\n",
    "result=search(arr,n,x)\n",
    "if result == -1:\n",
    "    print(\"Item not found\")\n",
    "else:\n",
    "    print(\"Item found in\",result)"
   ]
  },
  {
   "cell_type": "code",
   "execution_count": 12,
   "id": "fba57d55",
   "metadata": {},
   "outputs": [
    {
     "name": "stdout",
     "output_type": "stream",
     "text": [
      "Element is present at index  5\n"
     ]
    }
   ],
   "source": [
    "#Recursive implementation of binary search\n",
    "\n",
    "def binarysearch(arr,l,r,x):\n",
    "    if r>=l:\n",
    "        mid=l+(r-1)//2\n",
    "        if arr[mid]==x:\n",
    "            return mid\n",
    "        elif arr[mid]>x:\n",
    "            return binarysearch(arr,l,mid-1,x)\n",
    "        else:\n",
    "            return binarysearch(arr,mid+1,r,x)\n",
    "    else:\n",
    "        return -1\n",
    "arr=[3,4,2,5,6,20]\n",
    "x=20\n",
    "result = binarysearch(arr,0,len(arr)-1,x)\n",
    "if result != -1:\n",
    "    print(\"Element is present at index % d\" % result)\n",
    "else:\n",
    "    print(\"Element is not present in array\")\n",
    "    "
   ]
  },
  {
   "cell_type": "code",
   "execution_count": 13,
   "id": "a9ba37cb",
   "metadata": {},
   "outputs": [
    {
     "name": "stdout",
     "output_type": "stream",
     "text": [
      "Element is in 6\n"
     ]
    }
   ],
   "source": [
    "#Iterative implementation of binary search\n",
    "\n",
    "def binarysearch(arr,l,r,x):\n",
    "    while l<=r:\n",
    "        mid=l+(r-1)//2\n",
    "        if arr[mid]==x:\n",
    "            return mid\n",
    "        elif arr[mid]<x:\n",
    "            l=mid+1\n",
    "        else:\n",
    "            r=mid-1\n",
    "    return -1\n",
    "arr=[4,6,4,3,6,7,8,30]\n",
    "x=8\n",
    "result=binarysearch(arr,0,len(arr)-1,x)\n",
    "if result!=-1:\n",
    "    print(\"Element is in %d\" %result)\n",
    "else:\n",
    "    print(\"Element not found!\")"
   ]
  },
  {
   "cell_type": "code",
   "execution_count": null,
   "id": "252bb034",
   "metadata": {},
   "outputs": [],
   "source": []
  }
 ],
 "metadata": {
  "kernelspec": {
   "display_name": "Python 3 (ipykernel)",
   "language": "python",
   "name": "python3"
  },
  "language_info": {
   "codemirror_mode": {
    "name": "ipython",
    "version": 3
   },
   "file_extension": ".py",
   "mimetype": "text/x-python",
   "name": "python",
   "nbconvert_exporter": "python",
   "pygments_lexer": "ipython3",
   "version": "3.9.12"
  }
 },
 "nbformat": 4,
 "nbformat_minor": 5
}
